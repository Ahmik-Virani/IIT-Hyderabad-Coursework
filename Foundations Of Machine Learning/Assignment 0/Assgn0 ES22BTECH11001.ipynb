{
 "cells": [
  {
   "cell_type": "markdown",
   "metadata": {},
   "source": [
    "# Assignment 0 - Foundations of Machine Learning\n",
    "#### Ahmik Virani\n",
    "#### ES22BTECH11001"
   ]
  },
  {
   "cell_type": "code",
   "execution_count": 2,
   "metadata": {},
   "outputs": [
    {
     "name": "stdout",
     "output_type": "stream",
     "text": [
      "1.26.4\n",
      "Build Dependencies:\n",
      "  blas:\n",
      "    detection method: pkgconfig\n",
      "    found: true\n",
      "    include directory: /opt/arm64-builds/include\n",
      "    lib directory: /opt/arm64-builds/lib\n",
      "    name: openblas64\n",
      "    openblas configuration: USE_64BITINT=1 DYNAMIC_ARCH=1 DYNAMIC_OLDER= NO_CBLAS=\n",
      "      NO_LAPACK= NO_LAPACKE= NO_AFFINITY=1 USE_OPENMP= SANDYBRIDGE MAX_THREADS=3\n",
      "    pc file directory: /usr/local/lib/pkgconfig\n",
      "    version: 0.3.23.dev\n",
      "  lapack:\n",
      "    detection method: internal\n",
      "    found: true\n",
      "    include directory: unknown\n",
      "    lib directory: unknown\n",
      "    name: dep4335021056\n",
      "    openblas configuration: unknown\n",
      "    pc file directory: unknown\n",
      "    version: 1.26.4\n",
      "Compilers:\n",
      "  c:\n",
      "    args: -fno-strict-aliasing, -DBLAS_SYMBOL_SUFFIX=64_, -DHAVE_BLAS_ILP64\n",
      "    commands: cc\n",
      "    linker: ld64\n",
      "    linker args: -fno-strict-aliasing, -DBLAS_SYMBOL_SUFFIX=64_, -DHAVE_BLAS_ILP64\n",
      "    name: clang\n",
      "    version: 14.0.0\n",
      "  c++:\n",
      "    args: -DBLAS_SYMBOL_SUFFIX=64_, -DHAVE_BLAS_ILP64\n",
      "    commands: c++\n",
      "    linker: ld64\n",
      "    linker args: -DBLAS_SYMBOL_SUFFIX=64_, -DHAVE_BLAS_ILP64\n",
      "    name: clang\n",
      "    version: 14.0.0\n",
      "  cython:\n",
      "    commands: cython\n",
      "    linker: cython\n",
      "    name: cython\n",
      "    version: 3.0.8\n",
      "Machine Information:\n",
      "  build:\n",
      "    cpu: aarch64\n",
      "    endian: little\n",
      "    family: aarch64\n",
      "    system: darwin\n",
      "  host:\n",
      "    cpu: aarch64\n",
      "    endian: little\n",
      "    family: aarch64\n",
      "    system: darwin\n",
      "Python Information:\n",
      "  path: /private/var/folders/76/zy5ktkns50v6gt5g8r0sf6sc0000gn/T/cibw-run-q69bfk1p/cp312-macosx_arm64/build/venv/bin/python\n",
      "  version: '3.12'\n",
      "SIMD Extensions:\n",
      "  baseline:\n",
      "  - NEON\n",
      "  - NEON_FP16\n",
      "  - NEON_VFPV4\n",
      "  - ASIMD\n",
      "  found:\n",
      "  - ASIMDHP\n",
      "  not found:\n",
      "  - ASIMDFHM\n",
      "\n",
      "None\n"
     ]
    }
   ],
   "source": [
    "# (a) Import the numpy package under the name np. Print the numpy version and the configuration.\n",
    "\n",
    "import numpy as np\n",
    "print(np. __version__)\n",
    "print(np.show_config())"
   ]
  },
  {
   "cell_type": "code",
   "execution_count": 3,
   "metadata": {},
   "outputs": [
    {
     "name": "stdout",
     "output_type": "stream",
     "text": [
      "[0. 0. 0. 0. 0. 0. 0. 0. 0. 0.]\n"
     ]
    }
   ],
   "source": [
    "# (b) Create a null vector of size 10, and output the vector to the terminal.\n",
    "\n",
    "null_vector = np.zeros(10)\n",
    "print(null_vector)"
   ]
  },
  {
   "cell_type": "code",
   "execution_count": 4,
   "metadata": {},
   "outputs": [
    {
     "name": "stdout",
     "output_type": "stream",
     "text": [
      "[0. 0. 0. 0. 1. 0. 0. 0. 0. 0.]\n"
     ]
    }
   ],
   "source": [
    "# (c) Create a null vector of size 10 but the fifth value which is 1. Output the vector to the terminal.\n",
    "\n",
    "null_vector = np.zeros(10)\n",
    "null_vector[4] = 1      #0 based indexing\n",
    "print(null_vector)"
   ]
  },
  {
   "cell_type": "code",
   "execution_count": 5,
   "metadata": {},
   "outputs": [
    {
     "name": "stdout",
     "output_type": "stream",
     "text": [
      "[5 4 3 2 1]\n"
     ]
    }
   ],
   "source": [
    "# (d) Reverse a vector (first element becomes last).\n",
    "\n",
    "vector = np.array([1, 2, 3, 4, 5])\n",
    "reverse_vector = np.flip(vector)\n",
    "print(reverse_vector)"
   ]
  },
  {
   "cell_type": "code",
   "execution_count": 6,
   "metadata": {},
   "outputs": [
    {
     "name": "stdout",
     "output_type": "stream",
     "text": [
      "[[0. 1. 0. 1. 0.]\n",
      " [1. 0. 1. 0. 1.]\n",
      " [0. 1. 0. 1. 0.]\n",
      " [1. 0. 1. 0. 1.]\n",
      " [0. 1. 0. 1. 0.]]\n"
     ]
    }
   ],
   "source": [
    "# (e) Create an n × n array with checkerboard pattern of zeros and ones.\n",
    "\n",
    "n = 5   #specify the value of 'n'\n",
    "\n",
    "checkboard = np.zeros((n, n))\n",
    "checkboard[1::2, ::2] = 1   #1's on odd rows and even columns\n",
    "checkboard[::2, 1::2] = 1   #1's on even rows and odd columns\n",
    "\n",
    "print(checkboard)"
   ]
  },
  {
   "cell_type": "code",
   "execution_count": 7,
   "metadata": {},
   "outputs": [
    {
     "name": "stdout",
     "output_type": "stream",
     "text": [
      "[[3 4 2 1]\n",
      " [4 2 3 1]\n",
      " [2 1 3 4]\n",
      " [1 3 4 2]]\n"
     ]
    }
   ],
   "source": [
    "# (f) Given an n × n array, sort the rows of array according to mth column of array.\n",
    "\n",
    "n = 4   #specify the value of 'n'\n",
    "\n",
    "array = np.array([[4, 2, 3, 1],         #Specify an n*n array\n",
    "                  [1, 3, 4, 2],\n",
    "                  [2, 1, 3, 4],\n",
    "                  [3, 4, 2, 1]])\n",
    "    \n",
    "m = 2                                   #Specify a value of m\n",
    "\n",
    "sorted_array = array[array[:,m].argsort()]\n",
    "print(sorted_array)"
   ]
  },
  {
   "cell_type": "code",
   "execution_count": 8,
   "metadata": {},
   "outputs": [
    {
     "name": "stdout",
     "output_type": "stream",
     "text": [
      "[[0 1 2]\n",
      " [1 2 3]\n",
      " [2 3 4]]\n"
     ]
    }
   ],
   "source": [
    "# (g) Create an n × n array with (i + j)th-entry equal to i + j.\n",
    "\n",
    "n = 3                   #Specify n\n",
    "\n",
    "rows = np.arange(n).reshape(n, 1)       #specify row matrix\n",
    "columns = np.arange(n)                  #specify column matrix\n",
    "\n",
    "required_arr = rows + columns           #broadcasting to create the desired array\n",
    "print(required_arr)"
   ]
  },
  {
   "cell_type": "code",
   "execution_count": 9,
   "metadata": {},
   "outputs": [
    {
     "name": "stdout",
     "output_type": "stream",
     "text": [
      "(1, 5, 4)\n"
     ]
    }
   ],
   "source": [
    "# (h) Consider a (6, 7, 8) shape array, what is the index (x, y, z) of the 100th element (of the entire structure)?\n",
    "\n",
    "shape = (6, 7, 8)\n",
    "index = 100\n",
    "result = np.unravel_index(index, shape)     #convert the flat index into coordinates in the multi-dimensional array\n",
    "print(result)\n"
   ]
  },
  {
   "cell_type": "code",
   "execution_count": 10,
   "metadata": {},
   "outputs": [
    {
     "name": "stdout",
     "output_type": "stream",
     "text": [
      "[[18 18]\n",
      " [18 18]\n",
      " [18 18]\n",
      " [18 18]\n",
      " [18 18]]\n"
     ]
    }
   ],
   "source": [
    "# (i) Multiply a 5 × 3 matrix by a 3 × 2 matrix (real matrix product).\n",
    "\n",
    "A = np.full((5, 3), 3)      #Call the first matrix A\n",
    "B = np.full((3, 2), 2)      #Call the second matrix B\n",
    "\n",
    "res = np.matmul(A, B)\n",
    "print(res)"
   ]
  },
  {
   "cell_type": "code",
   "execution_count": 11,
   "metadata": {},
   "outputs": [
    {
     "name": "stdout",
     "output_type": "stream",
     "text": [
      "[0.85337976 0.28495096 0.43508616 0.         0.14293896 0.83635915\n",
      " 0.75550405 0.27037299 0.57947379 0.29049524]\n"
     ]
    }
   ],
   "source": [
    "# (j) Create random vector of size 10 and replace the maximum value by 0.\n",
    "\n",
    "vector = np.random.rand(10)\n",
    "max_index = np.argmax(vector)       # Find the index of the maximum value\n",
    "vector[max_index] = 0\n",
    "\n",
    "print(vector)"
   ]
  },
  {
   "cell_type": "code",
   "execution_count": 12,
   "metadata": {},
   "outputs": [
    {
     "name": "stdout",
     "output_type": "stream",
     "text": [
      "7\n"
     ]
    }
   ],
   "source": [
    "# (k) How to find the closest value (to a given scalar) in an array?\n",
    "\n",
    "scalar = 9\n",
    "\n",
    "array = np.array([1, 3, 7, 15, 20])\n",
    "difference_array = np.abs(array - scalar)       #Create an array that stores the difference between scalar and array values\n",
    "closest_index = np.argmin(difference_array)     #Find the index of the minimum difference\n",
    "\n",
    "print(array[closest_index])"
   ]
  },
  {
   "cell_type": "code",
   "execution_count": 13,
   "metadata": {},
   "outputs": [
    {
     "name": "stdout",
     "output_type": "stream",
     "text": [
      "[[-1.  0.  1.]\n",
      " [-1.  0.  1.]\n",
      " [-1.  0.  1.]]\n"
     ]
    }
   ],
   "source": [
    "# (l) Subtract the mean of each row from each corresponding row of a matrix.\n",
    "\n",
    "matrix = np.array([\n",
    "    [1, 2, 3],\n",
    "    [4, 5, 6],\n",
    "    [7, 8, 9]\n",
    "])\n",
    "\n",
    "row_mean = np.mean(matrix, axis = 1)\n",
    "matrix = matrix - row_mean[:, np.newaxis]\n",
    "print(matrix)"
   ]
  },
  {
   "cell_type": "code",
   "execution_count": 14,
   "metadata": {},
   "outputs": [
    {
     "name": "stdout",
     "output_type": "stream",
     "text": [
      "[10  5  7  1  7  8]\n"
     ]
    }
   ],
   "source": [
    "# (m) Consider a given vector, how to add 1 to each element indexed by a second vector (be careful with repeated indices - you should consider it only once)?\n",
    "\n",
    "given_vector = np.array([10, 4, 6 , 1, 6, 8])\n",
    "index_vector = np.array([1, 2, 2, 4])\n",
    "\n",
    "unique_indices = np.unique(index_vector)  #Ensure the index_vector is unique\n",
    "\n",
    "given_vector[unique_indices] += 1               #For all index_vector values, add 1\n",
    "print(given_vector)"
   ]
  },
  {
   "cell_type": "code",
   "execution_count": 15,
   "metadata": {},
   "outputs": [
    {
     "name": "stdout",
     "output_type": "stream",
     "text": [
      "2\n"
     ]
    }
   ],
   "source": [
    "# (n) How to find the most frequent value in an array?\n",
    "\n",
    "array = np.array([1, 2, 3, 2, 2, 1, 4, 5])\n",
    "values, counts = np.unique(array, return_counts=True)\n",
    "\n",
    "max_index = np.argmax(counts)\n",
    "most_frequent_value = values[max_index]\n",
    "\n",
    "print(most_frequent_value)"
   ]
  },
  {
   "cell_type": "code",
   "execution_count": 16,
   "metadata": {},
   "outputs": [
    {
     "name": "stdout",
     "output_type": "stream",
     "text": [
      "[[[[0.48448393 0.02148045 0.81007862]\n",
      "   [0.9857971  0.82944367 0.66858232]\n",
      "   [0.84948799 0.21755013 0.39855683]]\n",
      "\n",
      "  [[0.02148045 0.81007862 0.34668989]\n",
      "   [0.82944367 0.66858232 0.78089653]\n",
      "   [0.21755013 0.39855683 0.88389817]]\n",
      "\n",
      "  [[0.81007862 0.34668989 0.27642839]\n",
      "   [0.66858232 0.78089653 0.67572013]\n",
      "   [0.39855683 0.88389817 0.50865056]]\n",
      "\n",
      "  [[0.34668989 0.27642839 0.47256852]\n",
      "   [0.78089653 0.67572013 0.48866416]\n",
      "   [0.88389817 0.50865056 0.91230676]]\n",
      "\n",
      "  [[0.27642839 0.47256852 0.72037324]\n",
      "   [0.67572013 0.48866416 0.3914267 ]\n",
      "   [0.50865056 0.91230676 0.97729872]]\n",
      "\n",
      "  [[0.47256852 0.72037324 0.55552326]\n",
      "   [0.48866416 0.3914267  0.37638099]\n",
      "   [0.91230676 0.97729872 0.60930747]]\n",
      "\n",
      "  [[0.72037324 0.55552326 0.16876255]\n",
      "   [0.3914267  0.37638099 0.04389439]\n",
      "   [0.97729872 0.60930747 0.35183959]]\n",
      "\n",
      "  [[0.55552326 0.16876255 0.85613418]\n",
      "   [0.37638099 0.04389439 0.23753615]\n",
      "   [0.60930747 0.35183959 0.97536579]]]\n",
      "\n",
      "\n",
      " [[[0.9857971  0.82944367 0.66858232]\n",
      "   [0.84948799 0.21755013 0.39855683]\n",
      "   [0.90216494 0.85128057 0.54770029]]\n",
      "\n",
      "  [[0.82944367 0.66858232 0.78089653]\n",
      "   [0.21755013 0.39855683 0.88389817]\n",
      "   [0.85128057 0.54770029 0.15287787]]\n",
      "\n",
      "  [[0.66858232 0.78089653 0.67572013]\n",
      "   [0.39855683 0.88389817 0.50865056]\n",
      "   [0.54770029 0.15287787 0.71619245]]\n",
      "\n",
      "  [[0.78089653 0.67572013 0.48866416]\n",
      "   [0.88389817 0.50865056 0.91230676]\n",
      "   [0.15287787 0.71619245 0.49868792]]\n",
      "\n",
      "  [[0.67572013 0.48866416 0.3914267 ]\n",
      "   [0.50865056 0.91230676 0.97729872]\n",
      "   [0.71619245 0.49868792 0.3687716 ]]\n",
      "\n",
      "  [[0.48866416 0.3914267  0.37638099]\n",
      "   [0.91230676 0.97729872 0.60930747]\n",
      "   [0.49868792 0.3687716  0.94165852]]\n",
      "\n",
      "  [[0.3914267  0.37638099 0.04389439]\n",
      "   [0.97729872 0.60930747 0.35183959]\n",
      "   [0.3687716  0.94165852 0.28904668]]\n",
      "\n",
      "  [[0.37638099 0.04389439 0.23753615]\n",
      "   [0.60930747 0.35183959 0.97536579]\n",
      "   [0.94165852 0.28904668 0.23918426]]]\n",
      "\n",
      "\n",
      " [[[0.84948799 0.21755013 0.39855683]\n",
      "   [0.90216494 0.85128057 0.54770029]\n",
      "   [0.02368446 0.53984386 0.87487763]]\n",
      "\n",
      "  [[0.21755013 0.39855683 0.88389817]\n",
      "   [0.85128057 0.54770029 0.15287787]\n",
      "   [0.53984386 0.87487763 0.41078929]]\n",
      "\n",
      "  [[0.39855683 0.88389817 0.50865056]\n",
      "   [0.54770029 0.15287787 0.71619245]\n",
      "   [0.87487763 0.41078929 0.03862107]]\n",
      "\n",
      "  [[0.88389817 0.50865056 0.91230676]\n",
      "   [0.15287787 0.71619245 0.49868792]\n",
      "   [0.41078929 0.03862107 0.43739878]]\n",
      "\n",
      "  [[0.50865056 0.91230676 0.97729872]\n",
      "   [0.71619245 0.49868792 0.3687716 ]\n",
      "   [0.03862107 0.43739878 0.42199136]]\n",
      "\n",
      "  [[0.91230676 0.97729872 0.60930747]\n",
      "   [0.49868792 0.3687716  0.94165852]\n",
      "   [0.43739878 0.42199136 0.03541404]]\n",
      "\n",
      "  [[0.97729872 0.60930747 0.35183959]\n",
      "   [0.3687716  0.94165852 0.28904668]\n",
      "   [0.42199136 0.03541404 0.87803982]]\n",
      "\n",
      "  [[0.60930747 0.35183959 0.97536579]\n",
      "   [0.94165852 0.28904668 0.23918426]\n",
      "   [0.03541404 0.87803982 0.43624997]]]\n",
      "\n",
      "\n",
      " [[[0.90216494 0.85128057 0.54770029]\n",
      "   [0.02368446 0.53984386 0.87487763]\n",
      "   [0.15637209 0.6066607  0.34782912]]\n",
      "\n",
      "  [[0.85128057 0.54770029 0.15287787]\n",
      "   [0.53984386 0.87487763 0.41078929]\n",
      "   [0.6066607  0.34782912 0.77947961]]\n",
      "\n",
      "  [[0.54770029 0.15287787 0.71619245]\n",
      "   [0.87487763 0.41078929 0.03862107]\n",
      "   [0.34782912 0.77947961 0.11879396]]\n",
      "\n",
      "  [[0.15287787 0.71619245 0.49868792]\n",
      "   [0.41078929 0.03862107 0.43739878]\n",
      "   [0.77947961 0.11879396 0.30407434]]\n",
      "\n",
      "  [[0.71619245 0.49868792 0.3687716 ]\n",
      "   [0.03862107 0.43739878 0.42199136]\n",
      "   [0.11879396 0.30407434 0.98491728]]\n",
      "\n",
      "  [[0.49868792 0.3687716  0.94165852]\n",
      "   [0.43739878 0.42199136 0.03541404]\n",
      "   [0.30407434 0.98491728 0.81726695]]\n",
      "\n",
      "  [[0.3687716  0.94165852 0.28904668]\n",
      "   [0.42199136 0.03541404 0.87803982]\n",
      "   [0.98491728 0.81726695 0.82173482]]\n",
      "\n",
      "  [[0.94165852 0.28904668 0.23918426]\n",
      "   [0.03541404 0.87803982 0.43624997]\n",
      "   [0.81726695 0.82173482 0.9472669 ]]]\n",
      "\n",
      "\n",
      " [[[0.02368446 0.53984386 0.87487763]\n",
      "   [0.15637209 0.6066607  0.34782912]\n",
      "   [0.5667358  0.67971132 0.38967736]]\n",
      "\n",
      "  [[0.53984386 0.87487763 0.41078929]\n",
      "   [0.6066607  0.34782912 0.77947961]\n",
      "   [0.67971132 0.38967736 0.16966308]]\n",
      "\n",
      "  [[0.87487763 0.41078929 0.03862107]\n",
      "   [0.34782912 0.77947961 0.11879396]\n",
      "   [0.38967736 0.16966308 0.38671665]]\n",
      "\n",
      "  [[0.41078929 0.03862107 0.43739878]\n",
      "   [0.77947961 0.11879396 0.30407434]\n",
      "   [0.16966308 0.38671665 0.89371421]]\n",
      "\n",
      "  [[0.03862107 0.43739878 0.42199136]\n",
      "   [0.11879396 0.30407434 0.98491728]\n",
      "   [0.38671665 0.89371421 0.91590832]]\n",
      "\n",
      "  [[0.43739878 0.42199136 0.03541404]\n",
      "   [0.30407434 0.98491728 0.81726695]\n",
      "   [0.89371421 0.91590832 0.49316815]]\n",
      "\n",
      "  [[0.42199136 0.03541404 0.87803982]\n",
      "   [0.98491728 0.81726695 0.82173482]\n",
      "   [0.91590832 0.49316815 0.58123002]]\n",
      "\n",
      "  [[0.03541404 0.87803982 0.43624997]\n",
      "   [0.81726695 0.82173482 0.9472669 ]\n",
      "   [0.49316815 0.58123002 0.52490409]]]\n",
      "\n",
      "\n",
      " [[[0.15637209 0.6066607  0.34782912]\n",
      "   [0.5667358  0.67971132 0.38967736]\n",
      "   [0.68275848 0.34504497 0.82077639]]\n",
      "\n",
      "  [[0.6066607  0.34782912 0.77947961]\n",
      "   [0.67971132 0.38967736 0.16966308]\n",
      "   [0.34504497 0.82077639 0.3732651 ]]\n",
      "\n",
      "  [[0.34782912 0.77947961 0.11879396]\n",
      "   [0.38967736 0.16966308 0.38671665]\n",
      "   [0.82077639 0.3732651  0.09848084]]\n",
      "\n",
      "  [[0.77947961 0.11879396 0.30407434]\n",
      "   [0.16966308 0.38671665 0.89371421]\n",
      "   [0.3732651  0.09848084 0.10615827]]\n",
      "\n",
      "  [[0.11879396 0.30407434 0.98491728]\n",
      "   [0.38671665 0.89371421 0.91590832]\n",
      "   [0.09848084 0.10615827 0.61850817]]\n",
      "\n",
      "  [[0.30407434 0.98491728 0.81726695]\n",
      "   [0.89371421 0.91590832 0.49316815]\n",
      "   [0.10615827 0.61850817 0.36955073]]\n",
      "\n",
      "  [[0.98491728 0.81726695 0.82173482]\n",
      "   [0.91590832 0.49316815 0.58123002]\n",
      "   [0.61850817 0.36955073 0.73847551]]\n",
      "\n",
      "  [[0.81726695 0.82173482 0.9472669 ]\n",
      "   [0.49316815 0.58123002 0.52490409]\n",
      "   [0.36955073 0.73847551 0.76171204]]]\n",
      "\n",
      "\n",
      " [[[0.5667358  0.67971132 0.38967736]\n",
      "   [0.68275848 0.34504497 0.82077639]\n",
      "   [0.76403172 0.41153793 0.84799787]]\n",
      "\n",
      "  [[0.67971132 0.38967736 0.16966308]\n",
      "   [0.34504497 0.82077639 0.3732651 ]\n",
      "   [0.41153793 0.84799787 0.86885924]]\n",
      "\n",
      "  [[0.38967736 0.16966308 0.38671665]\n",
      "   [0.82077639 0.3732651  0.09848084]\n",
      "   [0.84799787 0.86885924 0.35134896]]\n",
      "\n",
      "  [[0.16966308 0.38671665 0.89371421]\n",
      "   [0.3732651  0.09848084 0.10615827]\n",
      "   [0.86885924 0.35134896 0.88948278]]\n",
      "\n",
      "  [[0.38671665 0.89371421 0.91590832]\n",
      "   [0.09848084 0.10615827 0.61850817]\n",
      "   [0.35134896 0.88948278 0.85306672]]\n",
      "\n",
      "  [[0.89371421 0.91590832 0.49316815]\n",
      "   [0.10615827 0.61850817 0.36955073]\n",
      "   [0.88948278 0.85306672 0.92690277]]\n",
      "\n",
      "  [[0.91590832 0.49316815 0.58123002]\n",
      "   [0.61850817 0.36955073 0.73847551]\n",
      "   [0.85306672 0.92690277 0.9697002 ]]\n",
      "\n",
      "  [[0.49316815 0.58123002 0.52490409]\n",
      "   [0.36955073 0.73847551 0.76171204]\n",
      "   [0.92690277 0.9697002  0.73924491]]]\n",
      "\n",
      "\n",
      " [[[0.68275848 0.34504497 0.82077639]\n",
      "   [0.76403172 0.41153793 0.84799787]\n",
      "   [0.87238898 0.77955095 0.48412511]]\n",
      "\n",
      "  [[0.34504497 0.82077639 0.3732651 ]\n",
      "   [0.41153793 0.84799787 0.86885924]\n",
      "   [0.77955095 0.48412511 0.58875938]]\n",
      "\n",
      "  [[0.82077639 0.3732651  0.09848084]\n",
      "   [0.84799787 0.86885924 0.35134896]\n",
      "   [0.48412511 0.58875938 0.23231985]]\n",
      "\n",
      "  [[0.3732651  0.09848084 0.10615827]\n",
      "   [0.86885924 0.35134896 0.88948278]\n",
      "   [0.58875938 0.23231985 0.26072033]]\n",
      "\n",
      "  [[0.09848084 0.10615827 0.61850817]\n",
      "   [0.35134896 0.88948278 0.85306672]\n",
      "   [0.23231985 0.26072033 0.85048475]]\n",
      "\n",
      "  [[0.10615827 0.61850817 0.36955073]\n",
      "   [0.88948278 0.85306672 0.92690277]\n",
      "   [0.26072033 0.85048475 0.12949154]]\n",
      "\n",
      "  [[0.61850817 0.36955073 0.73847551]\n",
      "   [0.85306672 0.92690277 0.9697002 ]\n",
      "   [0.85048475 0.12949154 0.92301305]]\n",
      "\n",
      "  [[0.36955073 0.73847551 0.76171204]\n",
      "   [0.92690277 0.9697002  0.73924491]\n",
      "   [0.12949154 0.92301305 0.25076589]]]]\n"
     ]
    }
   ],
   "source": [
    "# (o) Extract all the contiguous 3 × 3 blocks from a random 10 × 10 matrix.\n",
    "\n",
    "from numpy.lib.stride_tricks import sliding_window_view\n",
    "\n",
    "matrix = np.random.rand(10, 10)                 # Generate a random 10x10 matrix\n",
    "blocks = sliding_window_view(matrix, (3, 3))    # Use sliding_window_view to extract all contiguous 3x3 blocks\n",
    "\n",
    "print(blocks)"
   ]
  },
  {
   "cell_type": "code",
   "execution_count": 17,
   "metadata": {},
   "outputs": [
    {
     "name": "stdout",
     "output_type": "stream",
     "text": [
      "Rank: 2\n",
      "Trace: 15\n",
      "Determinant: -9.51619735392994e-16\n"
     ]
    }
   ],
   "source": [
    "# (p) Compute the rank, trace and determinant of a matrix.\n",
    "\n",
    "# Example matrix\n",
    "matrix = np.array([[1, 2, 3],\n",
    "                   [4, 5, 6],\n",
    "                   [7, 8, 9]])\n",
    "\n",
    "# Compute the rank of the matrix\n",
    "rank = np.linalg.matrix_rank(matrix)\n",
    "\n",
    "# Compute the trace of the matrix\n",
    "trace = np.trace(matrix)\n",
    "\n",
    "# Compute the determinant of the matrix\n",
    "determinant = np.linalg.det(matrix)\n",
    "\n",
    "print(f\"Rank: {rank}\")\n",
    "print(f\"Trace: {trace}\")\n",
    "print(f\"Determinant: {determinant}\")"
   ]
  }
 ],
 "metadata": {
  "kernelspec": {
   "display_name": "Python 3",
   "language": "python",
   "name": "python3"
  },
  "language_info": {
   "codemirror_mode": {
    "name": "ipython",
    "version": 3
   },
   "file_extension": ".py",
   "mimetype": "text/x-python",
   "name": "python",
   "nbconvert_exporter": "python",
   "pygments_lexer": "ipython3",
   "version": "3.12.2"
  }
 },
 "nbformat": 4,
 "nbformat_minor": 2
}
