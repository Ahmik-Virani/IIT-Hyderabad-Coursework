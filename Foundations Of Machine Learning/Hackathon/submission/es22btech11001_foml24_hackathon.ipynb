{
 "cells": [
  {
   "cell_type": "code",
   "execution_count": null,
   "metadata": {
    "id": "SLc9aYYZCPhF"
   },
   "outputs": [],
   "source": [
    "import numpy as np\n",
    "import pandas as pd"
   ]
  },
  {
   "cell_type": "code",
   "execution_count": null,
   "metadata": {
    "id": "AxPpwADfCPhG"
   },
   "outputs": [],
   "source": [
    "data = pd.read_csv(\"train.csv\")"
   ]
  },
  {
   "cell_type": "code",
   "execution_count": null,
   "metadata": {
    "id": "6bcq9RmwCPhG"
   },
   "outputs": [],
   "source": [
    "data['Target'] = data['Target'].map({'low':1, 'medium':2, 'high':3})"
   ]
  },
  {
   "cell_type": "code",
   "execution_count": null,
   "metadata": {
    "id": "W8X4_ri7CPhH"
   },
   "outputs": [],
   "source": [
    "data['TaxOverdueStatus'] = data['TaxOverdueStatus'].fillna(0)\n",
    "data['HasGreenHouse'] = data['HasGreenHouse'].fillna(0)\n",
    "data['HasPestControl'] = data['HasPestControl'].fillna(0)\n",
    "data['NaturalLakePresence'] = data['NaturalLakePresence'].fillna(0)\n",
    "data['ReservoirWithFilter'] = data['ReservoirWithFilter'].fillna(0)\n",
    "data['FieldZoneLevel'] = data['FieldZoneLevel'].fillna(0)\n",
    "data['OtherZoningCode'] = data['OtherZoningCode'].notna().astype(int)"
   ]
  },
  {
   "cell_type": "code",
   "execution_count": null,
   "metadata": {
    "colab": {
     "base_uri": "https://localhost:8080/"
    },
    "id": "FSkAIhEXCPhH",
    "outputId": "53aed472-bda4-45ce-b8a9-6f46e4130efc"
   },
   "outputs": [],
   "source": [
    "data.shape"
   ]
  },
  {
   "cell_type": "markdown",
   "metadata": {
    "id": "uRWABSBICPhH"
   },
   "source": [
    "First lets remove the columns which have mostly null values"
   ]
  },
  {
   "cell_type": "code",
   "execution_count": null,
   "metadata": {
    "id": "52SH8Nz5CPhI"
   },
   "outputs": [],
   "source": [
    "columns_to_keep_1 = data.columns[data.isnull().sum() / data.shape[0] <= 0.50]\n",
    "data = data[columns_to_keep_1]\n",
    "\n",
    "columns_to_keep_1 = columns_to_keep_1.drop('Target')"
   ]
  },
  {
   "cell_type": "code",
   "execution_count": null,
   "metadata": {
    "colab": {
     "base_uri": "https://localhost:8080/"
    },
    "id": "zaKwmu_SCPhI",
    "outputId": "fc6d520a-7e7e-4ddc-c81a-bf049b4295ef"
   },
   "outputs": [],
   "source": [
    "print(columns_to_keep_1)"
   ]
  },
  {
   "cell_type": "code",
   "execution_count": null,
   "metadata": {
    "colab": {
     "base_uri": "https://localhost:8080/",
     "height": 1000
    },
    "id": "nV-_S7BZCPhI",
    "outputId": "7bad468e-a06d-44d3-89b7-56ef27486ceb"
   },
   "outputs": [],
   "source": [
    "data.nunique()"
   ]
  },
  {
   "cell_type": "code",
   "execution_count": null,
   "metadata": {
    "id": "CW8UJb9jCPhI"
   },
   "outputs": [],
   "source": [
    "old_data = data"
   ]
  },
  {
   "cell_type": "code",
   "execution_count": null,
   "metadata": {
    "colab": {
     "base_uri": "https://localhost:8080/",
     "height": 256
    },
    "id": "OLEpSgOHCPhJ",
    "outputId": "f4618a5c-512a-4c70-be25-30de5d5a740d"
   },
   "outputs": [],
   "source": [
    "data.head()"
   ]
  },
  {
   "cell_type": "markdown",
   "metadata": {
    "id": "5_Mxa5U_CPhJ"
   },
   "source": [
    "These are categorical:\n",
    "1. HarvestProcessingType\n",
    "2. LandUsageType\n",
    "3. AgriculturalPostalZone - X\n",
    "4. AgricultureZoningCode  - maybe\n",
    "5. TownId                 - X\n",
    "6. RawLocationId          - X\n",
    "8. NationalRegionCode\n",
    "9. DistrictId"
   ]
  },
  {
   "cell_type": "code",
   "execution_count": null,
   "metadata": {
    "id": "NGRkuWsJCPhJ"
   },
   "outputs": [],
   "source": [
    "data['cat1'] = data['HarvestProcessingType']\n",
    "data['cat2'] = data['LandUsageType']\n",
    "data['cat3'] = data['NationalRegionCode']\n",
    "data['cat4'] = data['DistrictId']"
   ]
  },
  {
   "cell_type": "code",
   "execution_count": null,
   "metadata": {
    "id": "fnl8hxr1CPhJ"
   },
   "outputs": [],
   "source": [
    "data['number1'] = data['TotalValue']/data['TotalCultivatedAreaSqft']\n",
    "data['number2'] = data['CropSpeciesVariety']/data['TotalCultivatedAreaSqft']\n",
    "data['number3'] = data['StorageAndFacilityCount']/data['FieldSizeSqft']\n",
    "data['number4'] = data['SoilFertilityType']\n",
    "data['number5'] = data['MainIrrigationSystemCount']/data['TotalCultivatedAreaSqft']\n",
    "data['number6'] = data['WaterAccessPointsCalc']/data['TotalCultivatedAreaSqft']\n",
    "data['number7'] = data['ValuationYear'] - data['FieldEstablishedYear']\n",
    "data['number8'] = data['FarmingUnitCount']/data['TotalCultivatedAreaSqft']\n",
    "data['number9'] = data['CultivatedAreaSqft1']/data['TotalCultivatedAreaSqft']\n",
    "data['number10'] = data['TaxAgrarianValue']/data['TotalCultivatedAreaSqft']\n",
    "data['number11'] = data['TaxLandValue']/data['FieldSizeSqft']\n",
    "data['number12'] = data['TotalTaxAssessed']/data['TotalValue']"
   ]
  },
  {
   "cell_type": "markdown",
   "metadata": {
    "id": "JTUC1SyXCPhJ"
   },
   "source": [
    "Index(['UID', 'AgriculturalPostalZone', 'AgricultureZoningCode',\n",
    "       'CropSpeciesVariety', 'CultivatedAreaSqft1', 'DistrictId',\n",
    "       'FarmingUnitCount', 'FieldEstablishedYear', 'FieldSizeSqft',\n",
    "       'FieldZoneLevel', 'HarvestProcessingType', 'HasGreenHouse',\n",
    "       'HasPestControl', 'LandUsageType', 'Latitude', 'Longitude',\n",
    "       'MainIrrigationSystemCount', 'NationalRegionCode',\n",
    "       'NaturalLakePresence', 'OtherZoningCode', 'RawLocationId',\n",
    "       'ReservoirWithFilter', 'SoilFertilityType', 'StorageAndFacilityCount',\n",
    "       'TaxAgrarianValue', 'TaxLandValue', 'TaxOverdueStatus',\n",
    "       'TotalCultivatedAreaSqft', 'TotalTaxAssessed', 'TotalValue', 'TownId',\n",
    "       'ValuationYear', 'WaterAccessPoints', 'WaterAccessPointsCalc'],\n",
    "      dtype='object')"
   ]
  },
  {
   "cell_type": "markdown",
   "metadata": {
    "id": "M1bUW3VPCPhJ"
   },
   "source": [
    "These are numerical:\n",
    "\n",
    "10. FieldEstablishedYear\n",
    "7. ValuationYear\n",
    "\n",
    "12. FarmingUnitCount\n",
    "\n",
    "1. SoilFertilityType\n",
    "\n",
    "3. StorageAndFacilityCount\n",
    "\n",
    "8. MainIrrigationSystemCount\n",
    "\n",
    "7. CropSpeciesVariety\n",
    "\n",
    "11. TotalCultivatedAreaSqft\n",
    "12. CultivatedAreaSqft1\n",
    "\n",
    "9. WaterAccessPoints\n",
    "10. WaterAccessPointsCalc\n",
    "\n",
    "4. TaxLandValue\n",
    "5. TotalTaxAssessed\n",
    "6. TotalValue\n",
    "11. TaxAgrarianValue\n",
    "\n",
    "2. FieldSizeSqft\n",
    "\n",
    "\n",
    "New metrix:\n",
    "1. TotalValue/TotalCultivatedAreaSqft\n",
    "2. TotalCultivatedAreaSqft/CropSpeciesVariety\n",
    "3. TotalCultivatedAreaSqft/StorageAndFacilityCount\n",
    "1. SoilFertilityType\n",
    "8. TotalCultivatedAreaSqft/MainIrrigationSystemCount\n",
    "9. TotalCultivatedAreaSqft/WaterAccessPointsCalc\n",
    "10. ValuationYear - FieldEstablishedYear\n",
    "11. TotalTaxAssessed/TotalValue\n",
    "12. TaxAgrarianValue/TaxLandValue\n",
    "13. MainIrrigationSystemCount/FieldSizeSqft"
   ]
  },
  {
   "cell_type": "markdown",
   "metadata": {
    "id": "9nzj2s-8CPhJ"
   },
   "source": [
    "We also have:\n",
    "1. Longitude, Latitude\n",
    "root (x^2 + y^2)"
   ]
  },
  {
   "cell_type": "code",
   "execution_count": null,
   "metadata": {
    "id": "K0KSayo5CPhJ"
   },
   "outputs": [],
   "source": [
    "data['number13'] = data['Longitude'] ** 2 + data['Latitude'] ** 2"
   ]
  },
  {
   "cell_type": "markdown",
   "metadata": {
    "id": "Vk4VQjkmCPhJ"
   },
   "source": [
    "We even have binary values:\n",
    "1. TaxOverdueStatus\n",
    "2. HasGreenHouse\n",
    "3. HasPestControl\n",
    "4. NaturalLakePresence\n",
    "5. ReservoirWithFilter"
   ]
  },
  {
   "cell_type": "code",
   "execution_count": null,
   "metadata": {
    "id": "C1SEotJICPhJ"
   },
   "outputs": [],
   "source": [
    "data['bool1'] = data['TaxOverdueStatus']\n",
    "data['bool2'] = data['HasGreenHouse']\n",
    "data['bool3'] = data['HasPestControl']\n",
    "data['bool4'] = data['NaturalLakePresence']\n",
    "data['bool5'] = data['ReservoirWithFilter']\n",
    "data['bool6'] = data['FieldZoneLevel']\n",
    "data['bool7'] = data['OtherZoningCode']\n",
    "\n",
    "data.replace([np.inf, -np.inf], 0, inplace=True)"
   ]
  },
  {
   "cell_type": "markdown",
   "metadata": {
    "id": "EYOJ06wSCPhJ"
   },
   "source": [
    "number10                     0.000468\n",
    "FieldZoneLevel               0.000624\n",
    "bool6                        0.000624\n",
    "number1                      0.001567\n",
    "number4                      0.001668\n",
    "SoilFertilityType            0.001668\n",
    "HasPestControl               0.001674\n",
    "bool3                        0.001674\n",
    "AgriculturalPostalZone       0.001835\n",
    "FarmingUnitCount             0.001897\n",
    "number6                      0.002359\n",
    "number5                      0.002746\n",
    "AgricultureZoningCode        0.004302\n",
    "FieldSizeSqft                0.004492\n",
    "LandUsageType                0.005639\n",
    "cat2                         0.005639\n",
    "bool5                        0.006415\n",
    "ReservoirWithFilter          0.006415\n",
    "number13                     0.007339\n",
    "HasGreenHouse                0.007840\n",
    "bool2                        0.007840\n",
    "number8                      0.009043\n",
    "Longitude                    0.011231\n",
    "HarvestProcessingType        0.013184\n",
    "cat1                         0.013184\n",
    "number11                     0.014094\n",
    "number3                      0.016631\n",
    "TaxOverdueStatus             0.016862\n",
    "bool1                        0.016862\n",
    "TownId                       0.019479\n",
    "OtherZoningCode              0.020454\n",
    "bool7                        0.020454\n",
    "RawLocationId                0.020743\n",
    "ValuationYear                0.020941\n",
    "Latitude                     0.021272\n",
    "UID                          0.021847\n",
    "NaturalLakePresence          0.022395\n",
    "bool4                        0.022395\n",
    "DistrictId                   0.025267\n",
    "NationalRegionCode           0.025267\n",
    "cat3                         0.025267\n",
    "cat4                         0.025267\n",
    "StorageAndFacilityCount      0.025295\n",
    "TaxLandValue                 0.032479\n",
    "TotalTaxAssessed             0.033140\n",
    "number7                      0.036949\n",
    "TotalValue                   0.037424\n",
    "FieldEstablishedYear         0.037837\n",
    "number12                     0.039917\n",
    "CropSpeciesVariety           0.042759\n",
    "TaxAgrarianValue             0.047239\n",
    "number2                      0.052824\n",
    "MainIrrigationSystemCount    0.063059\n",
    "WaterAccessPoints            0.067196\n",
    "WaterAccessPointsCalc        0.067908\n",
    "TotalCultivatedAreaSqft      0.081660\n",
    "CultivatedAreaSqft1          0.088554\n",
    "Target                       1.000000\n",
    "number9                           NaN\n",
    "Name: Target, dtype: float64\n"
   ]
  },
  {
   "cell_type": "markdown",
   "metadata": {
    "id": "zDQvPoT3CPhK"
   },
   "source": [
    "cat1                        -0.013184\n",
    "cat2                        -0.005639\n",
    "cat3                         0.025267\n",
    "cat4                         0.025267\n",
    "number1                     -0.001567\n",
    "number2                     -0.052824\n",
    "number3                      0.016631\n",
    "number4                      0.001668\n",
    "number5                     -0.002746\n",
    "number6                     -0.002359\n",
    "number7                     -0.036949\n",
    "number8                     -0.009043\n",
    "number9                           NaN\n",
    "number10                    -0.000468\n",
    "number11                     0.014094\n",
    "number12                    -0.039917\n",
    "number13                     0.007339\n",
    "bool1                        0.016862\n",
    "bool2                        0.007840\n",
    "bool3                       -0.001674\n",
    "bool4                       -0.022395\n",
    "bool5                       -0.006415\n",
    "bool6                        0.000624\n",
    "bool7                       -0.020454\n",
    "Name: Target, dtype: float64"
   ]
  },
  {
   "cell_type": "code",
   "execution_count": null,
   "metadata": {
    "id": "Dw_KGSbDCPhK"
   },
   "outputs": [],
   "source": [
    "threshold = len(data) * 0.5  # 50% threshold\n",
    "data = data.dropna(thresh=threshold, axis=1)\n",
    "\n",
    "for col in data.columns:\n",
    "    if data[col].isnull().any():  # any null values\n",
    "        data[col] = data[col].fillna(data[col].median())\n",
    "\n",
    "data.replace([np.inf, -np.inf], 0, inplace=True)"
   ]
  },
  {
   "cell_type": "code",
   "execution_count": null,
   "metadata": {
    "colab": {
     "base_uri": "https://localhost:8080/"
    },
    "id": "LmGxKE5dCPhK",
    "outputId": "4d269d10-b5ce-4775-aed5-5256d2c6d80c"
   },
   "outputs": [],
   "source": [
    "corr_matrix = data.corr()['Target']\n",
    "corr_matrix.abs().sort_values()\n",
    "\n",
    "columns_to_keep_2 = corr_matrix[abs(corr_matrix) > 0.01].index\n",
    "print(columns_to_keep_2)"
   ]
  },
  {
   "cell_type": "code",
   "execution_count": null,
   "metadata": {
    "id": "n0tiE2TwCPhK"
   },
   "outputs": [],
   "source": [
    "old_data = data\n",
    "\n",
    "columns_to_keep_2 = columns_to_keep_2.drop('UID', errors='ignore')\n",
    "columns_to_keep_2 = columns_to_keep_2.drop('Target', errors='ignore')\n",
    "\n",
    "data = data.loc[:, columns_to_keep_2]"
   ]
  },
  {
   "cell_type": "code",
   "execution_count": null,
   "metadata": {
    "colab": {
     "base_uri": "https://localhost:8080/"
    },
    "id": "tfaeykfCCPhK",
    "outputId": "e2c7d086-ac6d-4426-c7b6-a929573071a2"
   },
   "outputs": [],
   "source": [
    "for column in data.columns:\n",
    "    print(column)"
   ]
  },
  {
   "cell_type": "code",
   "execution_count": null,
   "metadata": {
    "id": "ebqWf3ojCPhK"
   },
   "outputs": [],
   "source": [
    "middle_data = data"
   ]
  },
  {
   "cell_type": "code",
   "execution_count": null,
   "metadata": {
    "colab": {
     "base_uri": "https://localhost:8080/",
     "height": 256
    },
    "id": "eoL57Qe1CPhK",
    "outputId": "39206261-cc47-40a6-839e-9a30e764d4f9"
   },
   "outputs": [],
   "source": [
    "data.head()"
   ]
  },
  {
   "cell_type": "markdown",
   "metadata": {
    "id": "mXDmZrQQCPhL"
   },
   "source": [
    "CropSpeciesVariety\n",
    "CultivatedAreaSqft1\n",
    "FieldEstablishedYear\n",
    "Latitude\n",
    "Longitude\n",
    "MainIrrigationSystemCount\n",
    "\n",
    "StorageAndFacilityCount\n",
    "TaxAgrarianValue\n",
    "TaxLandValue\n",
    "TotalCultivatedAreaSqft\n",
    "TotalTaxAssessed\n",
    "TotalValue\n",
    "\n",
    "ValuationYear\n",
    "WaterAccessPoints\n",
    "WaterAccessPointsCalc\n",
    "Target\n",
    "cat1\n",
    "cat3\n",
    "cat4\n",
    "number2\n",
    "number3\n",
    "number7\n",
    "number11\n",
    "number12\n",
    "bool1\n",
    "bool4\n",
    "bool7\n",
    "\n",
    "TownId\n",
    "RawLocationId\n",
    "\n",
    "data['cat1'] = data['HarvestProcessingType']\n",
    "data['cat2'] = data['LandUsageType']\n",
    "data['cat3'] = data['NationalRegionCode']\n",
    "data['cat4'] = data['DistrictId']\n",
    "\n",
    "data['bool1'] = data['TaxOverdueStatus']\n",
    "data['bool2'] = data['HasGreenHouse']\n",
    "data['bool3'] = data['HasPestControl']\n",
    "data['bool4'] = data['NaturalLakePresence']\n",
    "data['bool5'] = data['ReservoirWithFilter']\n",
    "data['bool6'] = data['FieldZoneLevel']\n",
    "data['bool7'] = data['OtherZoningCode']"
   ]
  },
  {
   "cell_type": "code",
   "execution_count": null,
   "metadata": {
    "id": "rFK-B7n9CPhL"
   },
   "outputs": [],
   "source": [
    "from sklearn.preprocessing import OneHotEncoder\n",
    "\n",
    "categories = [np.arange(1, 13),\n",
    "              np.arange(1, 4),\n",
    "              np.arange(1, 4)]\n",
    "\n",
    "ohe = OneHotEncoder(categories=categories,sparse_output=False,handle_unknown='ignore').set_output(transform='pandas')\n",
    "data_one_hot = ohe.fit_transform(data[['cat1', 'cat3', 'cat4']])\n",
    "data = pd.concat([data, data_one_hot], axis=1).drop(columns=['cat1', 'cat3', 'cat4'])"
   ]
  },
  {
   "cell_type": "code",
   "execution_count": null,
   "metadata": {
    "colab": {
     "base_uri": "https://localhost:8080/",
     "height": 256
    },
    "id": "f_kkfLkKCPhL",
    "outputId": "08a2f3f7-663d-47ae-bae8-e4da64a972fd"
   },
   "outputs": [],
   "source": [
    "data.head()"
   ]
  },
  {
   "cell_type": "code",
   "execution_count": null,
   "metadata": {
    "colab": {
     "base_uri": "https://localhost:8080/"
    },
    "id": "cq1VMc0dCPhL",
    "outputId": "65fd5db7-18f9-4b2b-d2e5-0ef8947b0a49"
   },
   "outputs": [],
   "source": [
    "for column in data.columns:\n",
    "    print(column)"
   ]
  },
  {
   "cell_type": "code",
   "execution_count": null,
   "metadata": {
    "id": "KFOaYMeoCPhL"
   },
   "outputs": [],
   "source": [
    "IDS = old_data.iloc[0]\n",
    "X = data.iloc[:, :]\n",
    "y = old_data.loc[:, ['Target']]"
   ]
  },
  {
   "cell_type": "code",
   "execution_count": null,
   "metadata": {
    "colab": {
     "base_uri": "https://localhost:8080/"
    },
    "id": "nAXSGOJcCPhL",
    "outputId": "0c51e631-0867-4b60-fb2b-3b8418b0e4de"
   },
   "outputs": [],
   "source": [
    "print(y)"
   ]
  },
  {
   "cell_type": "code",
   "execution_count": null,
   "metadata": {
    "colab": {
     "base_uri": "https://localhost:8080/"
    },
    "id": "dMRbhKGzCPhL",
    "outputId": "8160f9a2-49bb-4944-d208-d10c04917542"
   },
   "outputs": [],
   "source": [
    "low, med, high = 0, 0, 0\n",
    "for label in y['Target']:\n",
    "    if label == 1:\n",
    "        low+=1\n",
    "    elif label == 2:\n",
    "        med+=1\n",
    "    elif label == 3:\n",
    "        high += 1\n",
    "\n",
    "print(low, med, high)"
   ]
  },
  {
   "cell_type": "markdown",
   "metadata": {
    "id": "oUXNDH5rLdl0"
   },
   "source": [
    "4347"
   ]
  },
  {
   "cell_type": "code",
   "execution_count": null,
   "metadata": {
    "colab": {
     "base_uri": "https://localhost:8080/",
     "height": 256
    },
    "id": "86vYKCMPCPhM",
    "outputId": "1d9dafaa-6b7c-473f-ff41-642854bfbfea"
   },
   "outputs": [],
   "source": [
    "X.head()"
   ]
  },
  {
   "cell_type": "code",
   "execution_count": null,
   "metadata": {
    "colab": {
     "base_uri": "https://localhost:8080/"
    },
    "id": "QR4WWSY2CPhM",
    "outputId": "51f979cf-43ca-40d1-8625-c2e7875377cd"
   },
   "outputs": [],
   "source": [
    "percentage_inf_nan = X.apply(lambda x: ((np.isnan(x)) | (np.isinf(x))).mean() * 100)\n",
    "\n",
    "print(percentage_inf_nan)"
   ]
  },
  {
   "cell_type": "code",
   "execution_count": null,
   "metadata": {
    "colab": {
     "base_uri": "https://localhost:8080/",
     "height": 206
    },
    "id": "3nXDZGbpCPhN",
    "outputId": "6bad4249-d652-469c-90dc-d5eea7d96912"
   },
   "outputs": [],
   "source": [
    "y.head()"
   ]
  },
  {
   "cell_type": "code",
   "execution_count": null,
   "metadata": {
    "colab": {
     "base_uri": "https://localhost:8080/"
    },
    "id": "HZg9Y0iACPhN",
    "outputId": "2ba24cc0-a398-490c-c77b-909d449a6a68"
   },
   "outputs": [],
   "source": [
    "columns_with_nulls = data.columns[data.isnull().any()]\n",
    "count = 0\n",
    "for _ in columns_with_nulls:\n",
    "    count += 1\n",
    "\n",
    "print(count)"
   ]
  },
  {
   "cell_type": "markdown",
   "metadata": {
    "id": "cQDNKmMKCPhN"
   },
   "source": [
    "These are categorical:\n",
    "1. HarvestProcessingType\n",
    "2. LandUsageType\n",
    "3. AgriculturalPostalZone - X\n",
    "4. AgricultureZoningCode  - maybe\n",
    "5. TownId                 - X\n",
    "6. RawLocationId          - X\n",
    "8. NationalRegionCode\n",
    "9. DistrictId"
   ]
  },
  {
   "cell_type": "code",
   "execution_count": null,
   "metadata": {
    "colab": {
     "base_uri": "https://localhost:8080/"
    },
    "id": "VdanTjGxCPhN",
    "outputId": "487f9d97-dd16-4d41-cf1c-d1fcc14693d1"
   },
   "outputs": [],
   "source": [
    "columns_to_keep = []\n",
    "for column in X.columns:\n",
    "    columns_to_keep.append(column)\n",
    "\n",
    "print(columns_to_keep)"
   ]
  },
  {
   "cell_type": "code",
   "execution_count": null,
   "metadata": {
    "id": "rKVBdnyxCPhN"
   },
   "outputs": [],
   "source": [
    "middle_data_2 = data"
   ]
  },
  {
   "cell_type": "code",
   "execution_count": null,
   "metadata": {
    "colab": {
     "base_uri": "https://localhost:8080/"
    },
    "id": "4wLK4ULFCPhN",
    "outputId": "21b32b65-3d02-4dbe-efa4-06d02db697d0"
   },
   "outputs": [],
   "source": [
    "low, med, high = 0, 0, 0\n",
    "for label in y['Target']:\n",
    "    if label == 1:\n",
    "        low += 1\n",
    "    elif label == 2:\n",
    "        med += 1\n",
    "    elif label == 3:\n",
    "        high += 1\n",
    "\n",
    "print(low, med, high)"
   ]
  },
  {
   "cell_type": "code",
   "execution_count": null,
   "metadata": {
    "id": "A-CrKZCRCPhN"
   },
   "outputs": [],
   "source": [
    "# Now i need to ensure that all labels in number are equivalent\n",
    "X_duplicate = X[y['Target'].isin([1, 3])]\n",
    "y_duplicate = y[y['Target'].isin([1, 3])]\n",
    "\n",
    "# Concatinate twice\n",
    "X = pd.concat([X, X_duplicate], ignore_index=True)\n",
    "y = pd.concat([y, y_duplicate], ignore_index=True)\n",
    "\n",
    "X = pd.concat([X, X_duplicate], ignore_index=True)\n",
    "y = pd.concat([y, y_duplicate], ignore_index=True)"
   ]
  },
  {
   "cell_type": "code",
   "execution_count": null,
   "metadata": {
    "colab": {
     "base_uri": "https://localhost:8080/"
    },
    "id": "HLp3S15SCPhN",
    "outputId": "ff3dd864-e548-47a3-be48-4f7b02b77bab"
   },
   "outputs": [],
   "source": [
    "# New counts after duplication\n",
    "low, med, high = 0, 0, 0\n",
    "for label in y['Target']:\n",
    "    if label == 1:\n",
    "        low += 1\n",
    "    elif label == 2:\n",
    "        med += 1\n",
    "    elif label == 3:\n",
    "        high += 1\n",
    "\n",
    "print(low, med, high)"
   ]
  },
  {
   "cell_type": "code",
   "execution_count": null,
   "metadata": {
    "colab": {
     "base_uri": "https://localhost:8080/"
    },
    "id": "mwcc4Bu4CPhO",
    "outputId": "1e842d07-47de-4ebd-84c9-5cf6e93040af"
   },
   "outputs": [],
   "source": [
    "from sklearn.ensemble import AdaBoostClassifier\n",
    "from sklearn.ensemble import RandomForestClassifier\n",
    "\n",
    "print(\"Training model... Please wait...\")\n",
    "\n",
    "estimator = RandomForestClassifier(max_depth=5, n_estimators=28, random_state=42)\n",
    "clf = AdaBoostClassifier(estimator=estimator, n_estimators=150, learning_rate=1, random_state=42)\n",
    "\n",
    "clf.fit(X, y)"
   ]
  },
  {
   "cell_type": "code",
   "execution_count": null,
   "metadata": {
    "id": "iK6L97usO7C0"
   },
   "outputs": [],
   "source": [
    "import argparse\n",
    "import numpy as np\n",
    "import pandas as pd\n",
    "from sklearn.preprocessing import OneHotEncoder\n",
    "from sklearn.ensemble import AdaBoostClassifier\n",
    "from sklearn.ensemble import RandomForestClassifier\n",
    "\n",
    "def make_predictions(test_fname, predictions_fname):\n",
    "    print(\"Started prediction... Please wait...\")\n",
    "    test_data = pd.read_csv(test_fname)\n",
    "    \n",
    "    test_data['TaxOverdueStatus'] = test_data['TaxOverdueStatus'].fillna(0)\n",
    "    test_data['HasGreenHouse'] = test_data['HasGreenHouse'].fillna(0)\n",
    "    test_data['HasPestControl'] = test_data['HasPestControl'].fillna(0)\n",
    "    test_data['NaturalLakePresence'] = test_data['NaturalLakePresence'].fillna(0)\n",
    "    test_data['ReservoirWithFilter'] = test_data['ReservoirWithFilter'].fillna(0)\n",
    "    test_data['FieldZoneLevel'] = test_data['FieldZoneLevel'].fillna(0)\n",
    "    test_data['OtherZoningCode'] = test_data['OtherZoningCode'].notna().astype(int)\n",
    "\n",
    "    test_data = test_data[columns_to_keep_1]\n",
    "    test_data['cat1'] = test_data['HarvestProcessingType']\n",
    "    test_data['cat2'] = test_data['LandUsageType']\n",
    "    test_data['cat3'] = test_data['NationalRegionCode']\n",
    "    test_data['cat4'] = test_data['DistrictId']\n",
    "    test_data['number1'] = test_data['TotalValue']/test_data['TotalCultivatedAreaSqft']\n",
    "    test_data['number2'] = test_data['CropSpeciesVariety']/test_data['TotalCultivatedAreaSqft']\n",
    "    test_data['number3'] = test_data['StorageAndFacilityCount']/test_data['FieldSizeSqft']\n",
    "    test_data['number4'] = test_data['SoilFertilityType']\n",
    "    test_data['number5'] = test_data['MainIrrigationSystemCount']/test_data['TotalCultivatedAreaSqft']\n",
    "    test_data['number6'] = test_data['WaterAccessPointsCalc']/test_data['TotalCultivatedAreaSqft']\n",
    "    test_data['number7'] = test_data['ValuationYear'] - test_data['FieldEstablishedYear']\n",
    "    test_data['number8'] = test_data['FarmingUnitCount']/test_data['TotalCultivatedAreaSqft']\n",
    "    test_data['number9'] = test_data['CultivatedAreaSqft1']/test_data['TotalCultivatedAreaSqft']\n",
    "    test_data['number10'] = test_data['TaxAgrarianValue']/test_data['TotalCultivatedAreaSqft']\n",
    "    test_data['number11'] = test_data['TaxLandValue']/test_data['FieldSizeSqft']\n",
    "    test_data['number12'] = test_data['TotalTaxAssessed']/test_data['TotalValue']\n",
    "    test_data['number13'] = test_data['Longitude'] ** 2 + test_data['Latitude'] ** 2\n",
    "    test_data['bool1'] = test_data['TaxOverdueStatus']\n",
    "    test_data['bool2'] = test_data['HasGreenHouse']\n",
    "    test_data['bool3'] = test_data['HasPestControl']\n",
    "    test_data['bool4'] = test_data['NaturalLakePresence']\n",
    "    test_data['bool5'] = test_data['ReservoirWithFilter']\n",
    "    test_data['bool6'] = test_data['FieldZoneLevel']\n",
    "    test_data['bool7'] = test_data['OtherZoningCode']\n",
    "\n",
    "    if np.isinf(test_data.values).any():\n",
    "        print(\"isinf: yes\")\n",
    "    else:\n",
    "        print(\"isinf: no\")\n",
    "\n",
    "    test_data.replace([np.inf, -np.inf], 0, inplace=True)\n",
    "\n",
    "    test_IDS = test_data.iloc[:, 0]\n",
    "    test_data = test_data[columns_to_keep_2]\n",
    "    for col in test_data.columns:\n",
    "        if test_data[col].isnull().any():  # Check if there are any null values\n",
    "            test_data[col] = test_data[col].fillna(middle_data[col].median())\n",
    "\n",
    "    test_data.replace([np.inf, -np.inf], 0, inplace=True)    \n",
    "\n",
    "    categories = [np.arange(1, 13),\n",
    "                  np.arange(1, 4),\n",
    "                  np.arange(1, 4)]\n",
    "    \n",
    "    ohe = OneHotEncoder(categories=categories,sparse_output=False,handle_unknown='ignore').set_output(transform='pandas')\n",
    "    test_data_one_hot = ohe.fit_transform(test_data[['cat1', 'cat3', 'cat4']])\n",
    "    test_data = pd.concat([test_data, test_data_one_hot], axis=1).drop(columns=['cat1', 'cat3', 'cat4'])\n",
    "\n",
    "    test_data = test_data[columns_to_keep]\n",
    "    for col in test_data.columns:\n",
    "        if test_data[col].isnull().any():  # Check if there are any null values\n",
    "            test_data[col] = test_data[col].fillna(middle_data_2[col].median())\n",
    "\n",
    "    test_data.replace([np.inf, -np.inf], 0, inplace=True)\n",
    "\n",
    "    if np.isinf(test_data.values).any():\n",
    "        print(\"isinf: yes\")\n",
    "    else:\n",
    "        print(\"isinf: no\")\n",
    "    \n",
    "    predictions = clf.predict(test_data)\n",
    "    result = pd.DataFrame({'UID': test_IDS,'Target': predictions})\n",
    "    result['Target'] = result['Target'].replace({1: 'low', 2: 'medium', 3: 'high'})\n",
    "    result.to_csv(predictions_fname, index=False)\n",
    "\n",
    "    print(result.shape)\n",
    "\n",
    "if __name__==\"__main__\":\n",
    "    parser = argparse.ArgumentParser()\n",
    "    parser.add_argument(\"--train-file\", type=str, help='train.csv')\n",
    "    parser.add_argument(\"--test-file\", type=str, help='test.csv')\n",
    "    parser.add_argument(\"--predictions-file\", type=str, help='.')\n",
    "    args = parser.parse_args()\n",
    "    make_predictions(args.test_file, args.predictions_file)\n"
   ]
  }
 ],
 "metadata": {
  "accelerator": "GPU",
  "colab": {
   "gpuType": "T4",
   "provenance": []
  },
  "kernelspec": {
   "display_name": "cwq",
   "language": "python",
   "name": "python3"
  },
  "language_info": {
   "codemirror_mode": {
    "name": "ipython",
    "version": 3
   },
   "file_extension": ".py",
   "mimetype": "text/x-python",
   "name": "python",
   "nbconvert_exporter": "python",
   "pygments_lexer": "ipython3",
   "version": "3.12.3"
  }
 },
 "nbformat": 4,
 "nbformat_minor": 0
}
